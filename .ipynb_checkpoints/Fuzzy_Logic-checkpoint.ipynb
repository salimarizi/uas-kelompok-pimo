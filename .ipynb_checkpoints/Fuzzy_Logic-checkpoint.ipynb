{
 "cells": [
  {
   "cell_type": "markdown",
   "metadata": {
    "id": "lo3zjjm3XJCd"
   },
   "source": [
    "**Kelompok Trending Topic :**\n",
    "\n",
    "*   Ryan nathaniel (1872019)\n",
    "*   Kelvin William (1872020)\n",
    "*   Edwin Desemsky (1872051)\n",
    "*   Salim Arizi (1872054)"
   ]
  },
  {
   "cell_type": "code",
   "execution_count": 1,
   "metadata": {
    "colab": {
     "base_uri": "https://localhost:8080/"
    },
    "id": "mlB8CK1JdCy-",
    "outputId": "794469c7-920f-4d2f-c843-cc647b6d54e1"
   },
   "outputs": [
    {
     "name": "stdout",
     "output_type": "stream",
     "text": [
      "Requirement already satisfied: Sastrawi in c:\\programdata\\anaconda3\\lib\\site-packages (1.0.1)\n",
      "Requirement already satisfied: fuzzywuzzy in c:\\programdata\\anaconda3\\lib\\site-packages (0.18.0)\n",
      "Requirement already satisfied: python-Levenshtein in c:\\programdata\\anaconda3\\lib\\site-packages (0.12.0)\n",
      "Requirement already satisfied: setuptools in c:\\programdata\\anaconda3\\lib\\site-packages (from python-Levenshtein) (45.2.0.post20200210)\n"
     ]
    }
   ],
   "source": [
    "!pip install Sastrawi\n",
    "!pip install fuzzywuzzy\n",
    "!pip install python-Levenshtein"
   ]
  },
  {
   "cell_type": "code",
   "execution_count": 2,
   "metadata": {
    "id": "vjkB3CeaduCL"
   },
   "outputs": [],
   "source": [
    "import pandas as pd\n",
    "from fuzzywuzzy import fuzz\n",
    "from fuzzywuzzy import process\n",
    "from Sastrawi.StopWordRemover.StopWordRemoverFactory import StopWordRemoverFactory\n",
    "import re"
   ]
  },
  {
   "cell_type": "markdown",
   "metadata": {
    "id": "nz3Kwpni23Ag"
   },
   "source": [
    "#Loading Data"
   ]
  },
  {
   "cell_type": "code",
   "execution_count": null,
   "metadata": {
    "colab": {
     "base_uri": "https://localhost:8080/"
    },
    "id": "Bbxo4KiqedVu",
    "outputId": "4976d99a-d6f1-4de4-baba-53779cab5107"
   },
   "outputs": [
    {
     "name": "stdout",
     "output_type": "stream",
     "text": [
      "Mounted at /content/gdrive\n"
     ]
    }
   ],
   "source": [
    "drive.mount(\"/content/gdrive\")"
   ]
  },
  {
   "cell_type": "code",
   "execution_count": 3,
   "metadata": {
    "id": "1aan4rIeevGo"
   },
   "outputs": [],
   "source": [
    "df = pd.read_csv('question_philoit.csv')"
   ]
  },
  {
   "cell_type": "code",
   "execution_count": 4,
   "metadata": {
    "colab": {
     "base_uri": "https://localhost:8080/",
     "height": 589
    },
    "id": "KbaX5MtvfDda",
    "outputId": "ae34761b-92b4-4870-a852-4c2a0ca9bc3c"
   },
   "outputs": [
    {
     "data": {
      "text/html": [
       "<div>\n",
       "<style scoped>\n",
       "    .dataframe tbody tr th:only-of-type {\n",
       "        vertical-align: middle;\n",
       "    }\n",
       "\n",
       "    .dataframe tbody tr th {\n",
       "        vertical-align: top;\n",
       "    }\n",
       "\n",
       "    .dataframe thead th {\n",
       "        text-align: right;\n",
       "    }\n",
       "</style>\n",
       "<table border=\"1\" class=\"dataframe\">\n",
       "  <thead>\n",
       "    <tr style=\"text-align: right;\">\n",
       "      <th></th>\n",
       "      <th>id</th>\n",
       "      <th>content</th>\n",
       "      <th>slug</th>\n",
       "      <th>answeredStatus</th>\n",
       "      <th>idn</th>\n",
       "      <th>link</th>\n",
       "      <th>created_at</th>\n",
       "      <th>updated_at</th>\n",
       "      <th>userId</th>\n",
       "      <th>hotStatus</th>\n",
       "      <th>deletedStatus</th>\n",
       "      <th>anonymous</th>\n",
       "      <th>category</th>\n",
       "      <th>image</th>\n",
       "      <th>roomId</th>\n",
       "    </tr>\n",
       "  </thead>\n",
       "  <tbody>\n",
       "    <tr>\n",
       "      <th>0</th>\n",
       "      <td>68</td>\n",
       "      <td>Apa saja yang perlu dipersiapakan apabila indo...</td>\n",
       "      <td>apa-saja-yang-perlu-dipersiapakan-apabila-indo...</td>\n",
       "      <td>1</td>\n",
       "      <td>1</td>\n",
       "      <td>NaN</td>\n",
       "      <td>2019-04-22 21:14:14.0</td>\n",
       "      <td>2019-12-07 11:49:08.0</td>\n",
       "      <td>163</td>\n",
       "      <td>NaN</td>\n",
       "      <td>0</td>\n",
       "      <td>0</td>\n",
       "      <td>1.0</td>\n",
       "      <td>NaN</td>\n",
       "      <td>NaN</td>\n",
       "    </tr>\n",
       "    <tr>\n",
       "      <th>1</th>\n",
       "      <td>71</td>\n",
       "      <td>Apa saja contoh penggunaan artificial intellig...</td>\n",
       "      <td>apa-saja-contoh-penggunaan-artificial-intellig...</td>\n",
       "      <td>0</td>\n",
       "      <td>1</td>\n",
       "      <td>NaN</td>\n",
       "      <td>2019-04-23 19:36:32.0</td>\n",
       "      <td>2019-04-23 19:36:32.0</td>\n",
       "      <td>163</td>\n",
       "      <td>NaN</td>\n",
       "      <td>0</td>\n",
       "      <td>0</td>\n",
       "      <td>1.0</td>\n",
       "      <td>NaN</td>\n",
       "      <td>NaN</td>\n",
       "    </tr>\n",
       "    <tr>\n",
       "      <th>2</th>\n",
       "      <td>72</td>\n",
       "      <td>Mengapa Go-Jek diinvestasi oleh asing bukan pe...</td>\n",
       "      <td>mengapa-go-jek-diinvestasi-oleh-asing-bukan-pe...</td>\n",
       "      <td>1</td>\n",
       "      <td>1</td>\n",
       "      <td>https://id.techinasia.com/go-jek-rp13-triliun-...</td>\n",
       "      <td>2019-04-24 18:59:06.0</td>\n",
       "      <td>2019-07-11 07:18:47.0</td>\n",
       "      <td>163</td>\n",
       "      <td>NaN</td>\n",
       "      <td>0</td>\n",
       "      <td>0</td>\n",
       "      <td>1.0</td>\n",
       "      <td>NaN</td>\n",
       "      <td>NaN</td>\n",
       "    </tr>\n",
       "    <tr>\n",
       "      <th>3</th>\n",
       "      <td>74</td>\n",
       "      <td>Apa kelebihan dan kekurangan masing-masing 3 f...</td>\n",
       "      <td>apa-kelebihan-dan-kekurangan-masing-masing-3-f...</td>\n",
       "      <td>0</td>\n",
       "      <td>0</td>\n",
       "      <td>NaN</td>\n",
       "      <td>2019-04-30 09:48:54.0</td>\n",
       "      <td>2019-04-30 09:48:54.0</td>\n",
       "      <td>168</td>\n",
       "      <td>NaN</td>\n",
       "      <td>0</td>\n",
       "      <td>0</td>\n",
       "      <td>1.0</td>\n",
       "      <td>NaN</td>\n",
       "      <td>NaN</td>\n",
       "    </tr>\n",
       "    <tr>\n",
       "      <th>4</th>\n",
       "      <td>80</td>\n",
       "      <td>Apakah blockchain memungkinkan untuk diimpleme...</td>\n",
       "      <td>apakah-blockchain-memungkinkan-untuk-diimpleme...</td>\n",
       "      <td>0</td>\n",
       "      <td>0</td>\n",
       "      <td>NaN</td>\n",
       "      <td>2019-05-09 10:05:23.0</td>\n",
       "      <td>2019-05-09 10:05:23.0</td>\n",
       "      <td>163</td>\n",
       "      <td>NaN</td>\n",
       "      <td>0</td>\n",
       "      <td>0</td>\n",
       "      <td>1.0</td>\n",
       "      <td>NaN</td>\n",
       "      <td>NaN</td>\n",
       "    </tr>\n",
       "    <tr>\n",
       "      <th>...</th>\n",
       "      <td>...</td>\n",
       "      <td>...</td>\n",
       "      <td>...</td>\n",
       "      <td>...</td>\n",
       "      <td>...</td>\n",
       "      <td>...</td>\n",
       "      <td>...</td>\n",
       "      <td>...</td>\n",
       "      <td>...</td>\n",
       "      <td>...</td>\n",
       "      <td>...</td>\n",
       "      <td>...</td>\n",
       "      <td>...</td>\n",
       "      <td>...</td>\n",
       "      <td>...</td>\n",
       "    </tr>\n",
       "    <tr>\n",
       "      <th>91158</th>\n",
       "      <td>96046</td>\n",
       "      <td>apa yang menyebabkan terjadinya banjir</td>\n",
       "      <td>apa-yang-menyebabkan-terjadinya-banjir</td>\n",
       "      <td>0</td>\n",
       "      <td>0</td>\n",
       "      <td>NaN</td>\n",
       "      <td>2020-09-21 08:09:31.0</td>\n",
       "      <td>2020-09-21 08:09:31.0</td>\n",
       "      <td>17395</td>\n",
       "      <td>NaN</td>\n",
       "      <td>0</td>\n",
       "      <td>0</td>\n",
       "      <td>1.0</td>\n",
       "      <td>NaN</td>\n",
       "      <td>NaN</td>\n",
       "    </tr>\n",
       "    <tr>\n",
       "      <th>91159</th>\n",
       "      <td>96047</td>\n",
       "      <td>Apa manfaat mengonsumsi ikan mas</td>\n",
       "      <td>apa-manfaat-mengonsumsi-ikan-mas</td>\n",
       "      <td>0</td>\n",
       "      <td>0</td>\n",
       "      <td>NaN</td>\n",
       "      <td>2020-09-21 08:13:23.0</td>\n",
       "      <td>2020-09-21 08:13:23.0</td>\n",
       "      <td>17395</td>\n",
       "      <td>NaN</td>\n",
       "      <td>0</td>\n",
       "      <td>0</td>\n",
       "      <td>1.0</td>\n",
       "      <td>NaN</td>\n",
       "      <td>NaN</td>\n",
       "    </tr>\n",
       "    <tr>\n",
       "      <th>91160</th>\n",
       "      <td>96048</td>\n",
       "      <td>apakah ada kalian yang menggunakan aplikasi in...</td>\n",
       "      <td>apakah-ada-kalian-yang-menggunakan-aplikasi-in...</td>\n",
       "      <td>0</td>\n",
       "      <td>0</td>\n",
       "      <td>NaN</td>\n",
       "      <td>2020-09-21 08:15:34.0</td>\n",
       "      <td>2020-09-21 08:15:34.0</td>\n",
       "      <td>18239</td>\n",
       "      <td>NaN</td>\n",
       "      <td>0</td>\n",
       "      <td>1</td>\n",
       "      <td>1.0</td>\n",
       "      <td>NaN</td>\n",
       "      <td>NaN</td>\n",
       "    </tr>\n",
       "    <tr>\n",
       "      <th>91161</th>\n",
       "      <td>96049</td>\n",
       "      <td>Apa yang menyebabkan indonesia menjadi negara ...</td>\n",
       "      <td>apa-yang-menyebabkan-indonesia-menjadi-negara-...</td>\n",
       "      <td>0</td>\n",
       "      <td>0</td>\n",
       "      <td>NaN</td>\n",
       "      <td>2020-09-21 08:23:42.0</td>\n",
       "      <td>2020-09-21 08:23:42.0</td>\n",
       "      <td>17395</td>\n",
       "      <td>NaN</td>\n",
       "      <td>0</td>\n",
       "      <td>0</td>\n",
       "      <td>1.0</td>\n",
       "      <td>NaN</td>\n",
       "      <td>NaN</td>\n",
       "    </tr>\n",
       "    <tr>\n",
       "      <th>91162</th>\n",
       "      <td>96050</td>\n",
       "      <td>Apa yang harusbanda lakukan jika anda tertular...</td>\n",
       "      <td>apa-yang-harusbanda-lakukan-jika-anda-tertular...</td>\n",
       "      <td>0</td>\n",
       "      <td>0</td>\n",
       "      <td>NaN</td>\n",
       "      <td>2020-09-21 08:24:41.0</td>\n",
       "      <td>2020-09-21 08:24:41.0</td>\n",
       "      <td>17395</td>\n",
       "      <td>NaN</td>\n",
       "      <td>0</td>\n",
       "      <td>0</td>\n",
       "      <td>1.0</td>\n",
       "      <td>NaN</td>\n",
       "      <td>NaN</td>\n",
       "    </tr>\n",
       "  </tbody>\n",
       "</table>\n",
       "<p>91163 rows × 15 columns</p>\n",
       "</div>"
      ],
      "text/plain": [
       "          id                                            content  \\\n",
       "0         68  Apa saja yang perlu dipersiapakan apabila indo...   \n",
       "1         71  Apa saja contoh penggunaan artificial intellig...   \n",
       "2         72  Mengapa Go-Jek diinvestasi oleh asing bukan pe...   \n",
       "3         74  Apa kelebihan dan kekurangan masing-masing 3 f...   \n",
       "4         80  Apakah blockchain memungkinkan untuk diimpleme...   \n",
       "...      ...                                                ...   \n",
       "91158  96046             apa yang menyebabkan terjadinya banjir   \n",
       "91159  96047                   Apa manfaat mengonsumsi ikan mas   \n",
       "91160  96048  apakah ada kalian yang menggunakan aplikasi in...   \n",
       "91161  96049  Apa yang menyebabkan indonesia menjadi negara ...   \n",
       "91162  96050  Apa yang harusbanda lakukan jika anda tertular...   \n",
       "\n",
       "                                                    slug  answeredStatus  idn  \\\n",
       "0      apa-saja-yang-perlu-dipersiapakan-apabila-indo...               1    1   \n",
       "1      apa-saja-contoh-penggunaan-artificial-intellig...               0    1   \n",
       "2      mengapa-go-jek-diinvestasi-oleh-asing-bukan-pe...               1    1   \n",
       "3      apa-kelebihan-dan-kekurangan-masing-masing-3-f...               0    0   \n",
       "4      apakah-blockchain-memungkinkan-untuk-diimpleme...               0    0   \n",
       "...                                                  ...             ...  ...   \n",
       "91158             apa-yang-menyebabkan-terjadinya-banjir               0    0   \n",
       "91159                   apa-manfaat-mengonsumsi-ikan-mas               0    0   \n",
       "91160  apakah-ada-kalian-yang-menggunakan-aplikasi-in...               0    0   \n",
       "91161  apa-yang-menyebabkan-indonesia-menjadi-negara-...               0    0   \n",
       "91162  apa-yang-harusbanda-lakukan-jika-anda-tertular...               0    0   \n",
       "\n",
       "                                                    link  \\\n",
       "0                                                    NaN   \n",
       "1                                                    NaN   \n",
       "2      https://id.techinasia.com/go-jek-rp13-triliun-...   \n",
       "3                                                    NaN   \n",
       "4                                                    NaN   \n",
       "...                                                  ...   \n",
       "91158                                                NaN   \n",
       "91159                                                NaN   \n",
       "91160                                                NaN   \n",
       "91161                                                NaN   \n",
       "91162                                                NaN   \n",
       "\n",
       "                  created_at             updated_at  userId  hotStatus  \\\n",
       "0      2019-04-22 21:14:14.0  2019-12-07 11:49:08.0     163        NaN   \n",
       "1      2019-04-23 19:36:32.0  2019-04-23 19:36:32.0     163        NaN   \n",
       "2      2019-04-24 18:59:06.0  2019-07-11 07:18:47.0     163        NaN   \n",
       "3      2019-04-30 09:48:54.0  2019-04-30 09:48:54.0     168        NaN   \n",
       "4      2019-05-09 10:05:23.0  2019-05-09 10:05:23.0     163        NaN   \n",
       "...                      ...                    ...     ...        ...   \n",
       "91158  2020-09-21 08:09:31.0  2020-09-21 08:09:31.0   17395        NaN   \n",
       "91159  2020-09-21 08:13:23.0  2020-09-21 08:13:23.0   17395        NaN   \n",
       "91160  2020-09-21 08:15:34.0  2020-09-21 08:15:34.0   18239        NaN   \n",
       "91161  2020-09-21 08:23:42.0  2020-09-21 08:23:42.0   17395        NaN   \n",
       "91162  2020-09-21 08:24:41.0  2020-09-21 08:24:41.0   17395        NaN   \n",
       "\n",
       "       deletedStatus  anonymous  category image  roomId  \n",
       "0                  0          0       1.0   NaN     NaN  \n",
       "1                  0          0       1.0   NaN     NaN  \n",
       "2                  0          0       1.0   NaN     NaN  \n",
       "3                  0          0       1.0   NaN     NaN  \n",
       "4                  0          0       1.0   NaN     NaN  \n",
       "...              ...        ...       ...   ...     ...  \n",
       "91158              0          0       1.0   NaN     NaN  \n",
       "91159              0          0       1.0   NaN     NaN  \n",
       "91160              0          1       1.0   NaN     NaN  \n",
       "91161              0          0       1.0   NaN     NaN  \n",
       "91162              0          0       1.0   NaN     NaN  \n",
       "\n",
       "[91163 rows x 15 columns]"
      ]
     },
     "execution_count": 4,
     "metadata": {},
     "output_type": "execute_result"
    }
   ],
   "source": [
    "df"
   ]
  },
  {
   "cell_type": "markdown",
   "metadata": {
    "id": "W_ohQnnI28WZ"
   },
   "source": [
    "#Deklarasi Stopword"
   ]
  },
  {
   "cell_type": "code",
   "execution_count": 5,
   "metadata": {
    "id": "OXrQ727mlcLo"
   },
   "outputs": [],
   "source": [
    "factory = StopWordRemoverFactory()\n",
    "stopwords = factory.get_stop_words()\n",
    "stopword = factory.create_stop_word_remover()"
   ]
  },
  {
   "cell_type": "markdown",
   "metadata": {
    "id": "tivjmR_A3Oxi"
   },
   "source": [
    "#Clean Data"
   ]
  },
  {
   "cell_type": "code",
   "execution_count": 6,
   "metadata": {
    "id": "KK28rnZVl9xi"
   },
   "outputs": [],
   "source": [
    "def cleanText(txt):\n",
    "  txt = txt.lower()\n",
    "  txt = re.sub(r'[^\\w\\s]','', txt)\n",
    "  return stopword.remove(txt)"
   ]
  },
  {
   "cell_type": "code",
   "execution_count": 7,
   "metadata": {
    "id": "s-YKvh9Xlotq"
   },
   "outputs": [],
   "source": [
    "df['cleaned'] = df['content'].apply(cleanText)"
   ]
  },
  {
   "cell_type": "code",
   "execution_count": 8,
   "metadata": {
    "colab": {
     "base_uri": "https://localhost:8080/",
     "height": 35
    },
    "id": "xYnzJGizmMmy",
    "outputId": "2eb7a472-7025-4b3e-a8ac-0eb108812c2b"
   },
   "outputs": [
    {
     "data": {
      "text/plain": [
       "'apa yang perlu dipersiapakan apabila indonesia menjadi negara 3 besar ekonomi dunia  '"
      ]
     },
     "execution_count": 8,
     "metadata": {},
     "output_type": "execute_result"
    }
   ],
   "source": [
    "df['cleaned'][0]"
   ]
  },
  {
   "cell_type": "markdown",
   "metadata": {
    "id": "qsmIm9INDksT"
   },
   "source": [
    "#Deklarasi Keyword yang ingin dilihat Trendingnya"
   ]
  },
  {
   "cell_type": "code",
   "execution_count": 9,
   "metadata": {
    "colab": {
     "base_uri": "https://localhost:8080/",
     "height": 142
    },
    "id": "2yJzhzScJHHD",
    "outputId": "9a5a2cd6-3070-43a0-85a0-6a384da3b9c4"
   },
   "outputs": [
    {
     "data": {
      "text/html": [
       "<div>\n",
       "<style scoped>\n",
       "    .dataframe tbody tr th:only-of-type {\n",
       "        vertical-align: middle;\n",
       "    }\n",
       "\n",
       "    .dataframe tbody tr th {\n",
       "        vertical-align: top;\n",
       "    }\n",
       "\n",
       "    .dataframe thead th {\n",
       "        text-align: right;\n",
       "    }\n",
       "</style>\n",
       "<table border=\"1\" class=\"dataframe\">\n",
       "  <thead>\n",
       "    <tr style=\"text-align: right;\">\n",
       "      <th></th>\n",
       "      <th>keyword</th>\n",
       "      <th>points</th>\n",
       "    </tr>\n",
       "  </thead>\n",
       "  <tbody>\n",
       "    <tr>\n",
       "      <th>0</th>\n",
       "      <td>Bagaimana agar Indonesia maju</td>\n",
       "      <td>0</td>\n",
       "    </tr>\n",
       "    <tr>\n",
       "      <th>1</th>\n",
       "      <td>perkembangan IT di Indonesia</td>\n",
       "      <td>0</td>\n",
       "    </tr>\n",
       "    <tr>\n",
       "      <th>2</th>\n",
       "      <td>Muda</td>\n",
       "      <td>0</td>\n",
       "    </tr>\n",
       "  </tbody>\n",
       "</table>\n",
       "</div>"
      ],
      "text/plain": [
       "                         keyword  points\n",
       "0  Bagaimana agar Indonesia maju       0\n",
       "1   perkembangan IT di Indonesia       0\n",
       "2                           Muda       0"
      ]
     },
     "execution_count": 9,
     "metadata": {},
     "output_type": "execute_result"
    }
   ],
   "source": [
    "keywords = [\n",
    "  \"Bagaimana agar Indonesia maju\",\n",
    "  \"perkembangan IT di Indonesia\",\n",
    "  \"Muda\"\n",
    "]\n",
    "\n",
    "dfKeywords = pd.DataFrame({'keyword': keywords, 'points': [0] * len(keywords)})\n",
    "dfKeywords"
   ]
  },
  {
   "cell_type": "code",
   "execution_count": 10,
   "metadata": {
    "id": "r9X0o_NGJUZF"
   },
   "outputs": [],
   "source": [
    "def getTrendings(keyword):\n",
    "  points = 0\n",
    "  for text in df['cleaned']:\n",
    "    if (fuzz.ratio(keyword, text) > 50):\n",
    "      points += 1\n",
    "\n",
    "  return points"
   ]
  },
  {
   "cell_type": "code",
   "execution_count": 11,
   "metadata": {
    "id": "o8TBzROKLibQ"
   },
   "outputs": [],
   "source": [
    "dfKeywords['points'] = dfKeywords['keyword'].apply(getTrendings)"
   ]
  },
  {
   "cell_type": "code",
   "execution_count": 12,
   "metadata": {
    "colab": {
     "base_uri": "https://localhost:8080/",
     "height": 282
    },
    "id": "UXrrdmyjLvfz",
    "outputId": "29dea0a2-85ba-4fa7-9ffe-329ba7237a2b"
   },
   "outputs": [
    {
     "data": {
      "text/plain": [
       "<matplotlib.axes._subplots.AxesSubplot at 0x218f0ccd908>"
      ]
     },
     "execution_count": 12,
     "metadata": {},
     "output_type": "execute_result"
    },
    {
     "data": {
      "image/png": "[encoded data removed]",
      "text/plain": [
       "<Figure size 432x288 with 1 Axes>"
      ]
     },
     "metadata": {
      "needs_background": "light"
     },
     "output_type": "display_data"
    }
   ],
   "source": [
    "sorted = dfKeywords.sort_values(by='points', ascending=True)\n",
    "sorted.plot.barh(x='keyword', y='points', stacked=True)"
   ]
  }
 ],
 "metadata": {
  "colab": {
   "collapsed_sections": [],
   "name": "Fuzzy Logic.ipynb",
   "provenance": []
  },
  "kernelspec": {
   "display_name": "Python 3",
   "language": "python",
   "name": "python3"
  },
  "language_info": {
   "codemirror_mode": {
    "name": "ipython",
    "version": 3
   },
   "file_extension": ".py",
   "mimetype": "text/x-python",
   "name": "python",
   "nbconvert_exporter": "python",
   "pygments_lexer": "ipython3",
   "version": "3.7.6"
  }
 },
 "nbformat": 4,
 "nbformat_minor": 1
}
